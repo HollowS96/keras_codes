{
  "nbformat": 4,
  "nbformat_minor": 0,
  "metadata": {
    "colab": {
      "name": "digit_identifier",
      "version": "0.3.2",
      "provenance": [],
      "collapsed_sections": []
    },
    "kernelspec": {
      "name": "python3",
      "display_name": "Python 3"
    },
    "accelerator": "GPU"
  },
  "cells": [
    {
      "cell_type": "markdown",
      "metadata": {
        "id": "view-in-github",
        "colab_type": "text"
      },
      "source": [
        "[View in Colaboratory](https://colab.research.google.com/github/AkshayS96/keras_codes/blob/master/digit_identifier.ipynb)"
      ]
    },
    {
      "metadata": {
        "id": "pzywUUgjxXg0",
        "colab_type": "code",
        "colab": {
          "base_uri": "https://localhost:8080/",
          "height": 34
        },
        "outputId": "bce399d7-e30b-4495-d441-dd63cc43582f"
      },
      "cell_type": "code",
      "source": [
        "import keras\n",
        "from keras.datasets import mnist\n",
        "from keras.layers import Dense,Activation,Dropout\n",
        "from keras.layers import Conv2D,MaxPooling2D\n",
        "import numpy as np\n",
        "import pandas as pd\n",
        "from keras.models import Sequential"
      ],
      "execution_count": 1,
      "outputs": [
        {
          "output_type": "stream",
          "text": [
            "Using TensorFlow backend.\n"
          ],
          "name": "stderr"
        }
      ]
    },
    {
      "metadata": {
        "id": "8V_SUIPFG_a7",
        "colab_type": "code",
        "colab": {
          "base_uri": "https://localhost:8080/",
          "height": 51
        },
        "outputId": "a59a97f5-d22d-43dd-bdce-c72d6fd92bb3"
      },
      "cell_type": "code",
      "source": [
        "#loading mnist data\n",
        "data = mnist.load_data()"
      ],
      "execution_count": 2,
      "outputs": [
        {
          "output_type": "stream",
          "text": [
            "Downloading data from https://s3.amazonaws.com/img-datasets/mnist.npz\n",
            "11493376/11490434 [==============================] - 1s 0us/step\n"
          ],
          "name": "stdout"
        }
      ]
    },
    {
      "metadata": {
        "id": "k9tYyz9xHwRa",
        "colab_type": "code",
        "colab": {}
      },
      "cell_type": "code",
      "source": [
        "import matplotlib.pyplot as plt"
      ],
      "execution_count": 0,
      "outputs": []
    },
    {
      "metadata": {
        "id": "gngHzuIAJ5Ri",
        "colab_type": "code",
        "colab": {}
      },
      "cell_type": "code",
      "source": [
        "#loading the mnist data into train and test set\n",
        "(X_train,y_train),(X_test,y_test) = mnist.load_data()"
      ],
      "execution_count": 0,
      "outputs": []
    },
    {
      "metadata": {
        "id": "ofsQSi5eN18Y",
        "colab_type": "code",
        "colab": {}
      },
      "cell_type": "code",
      "source": [
        "#converting into numpy array\n",
        "X_train = np.array(X_train)/255\n",
        "X_test = np.array(X_test)/255\n"
      ],
      "execution_count": 0,
      "outputs": []
    },
    {
      "metadata": {
        "id": "4rQyvpOeOspQ",
        "colab_type": "code",
        "colab": {}
      },
      "cell_type": "code",
      "source": [
        "from keras.utils import to_categorical"
      ],
      "execution_count": 0,
      "outputs": []
    },
    {
      "metadata": {
        "id": "TXzuFPqnOv7w",
        "colab_type": "code",
        "colab": {}
      },
      "cell_type": "code",
      "source": [
        "y_train = to_categorical(y_train)\n",
        "y_test = to_categorical(y_test)"
      ],
      "execution_count": 0,
      "outputs": []
    },
    {
      "metadata": {
        "id": "xSVsulJIQh9i",
        "colab_type": "code",
        "colab": {}
      },
      "cell_type": "code",
      "source": [
        "X_train = X_train.reshape((60000,28,28,1))\n",
        "X_test = X_test.reshape((10000,28,28,1))"
      ],
      "execution_count": 0,
      "outputs": []
    },
    {
      "metadata": {
        "id": "GBR0KzWDVs00",
        "colab_type": "code",
        "colab": {}
      },
      "cell_type": "code",
      "source": [
        "from keras.layers import Flatten\n",
        "model = Sequential([\n",
        "    Conv2D(20,(5,5),input_shape=(28,28,1)),\n",
        "    Activation('relu'),\n",
        "    Conv2D(30,(3,3)),\n",
        "    Activation('relu'),\n",
        "    MaxPooling2D(pool_size=(2,2)),\n",
        "    Conv2D(30,(2,2)),\n",
        "    Activation('relu'),\n",
        "    Flatten(),\n",
        "    Dense(200,activation=\"relu\"),\n",
        "    Dense(10,activation=\"softmax\")\n",
        "])"
      ],
      "execution_count": 0,
      "outputs": []
    },
    {
      "metadata": {
        "id": "nY694MlKX_9B",
        "colab_type": "code",
        "colab": {
          "base_uri": "https://localhost:8080/",
          "height": 759
        },
        "outputId": "f3ba1445-c21b-4681-dc14-f171ffc9f505"
      },
      "cell_type": "code",
      "source": [
        "model.compile(loss=\"categorical_crossentropy\",optimizer=\"adam\",metrics=[\"accuracy\"])\n",
        "model.fit(X_train,y_train,epochs=20,batch_size=1000)\n",
        "scores = model.evaluate(X_test,y_test)\n",
        "print(\"loss :\",scores[0])\n",
        "print(\"accuracy :\",scores[1])"
      ],
      "execution_count": 19,
      "outputs": [
        {
          "output_type": "stream",
          "text": [
            "Epoch 1/20\n",
            "60000/60000 [==============================] - 4s 61us/step - loss: 0.0042 - acc: 0.9986\n",
            "Epoch 2/20\n",
            "60000/60000 [==============================] - 3s 50us/step - loss: 0.0024 - acc: 0.9994\n",
            "Epoch 3/20\n",
            "60000/60000 [==============================] - 3s 50us/step - loss: 0.0027 - acc: 0.9992\n",
            "Epoch 4/20\n",
            "60000/60000 [==============================] - 3s 51us/step - loss: 0.0034 - acc: 0.9989\n",
            "Epoch 5/20\n",
            "60000/60000 [==============================] - 3s 50us/step - loss: 0.0027 - acc: 0.9992\n",
            "Epoch 6/20\n",
            "50000/60000 [========================>.....] - ETA: 0s - loss: 0.0014 - acc: 0.9995"
          ],
          "name": "stdout"
        },
        {
          "output_type": "stream",
          "text": [
            "60000/60000 [==============================] - 3s 53us/step - loss: 0.0020 - acc: 0.9994\n",
            "Epoch 7/20\n",
            "60000/60000 [==============================] - 3s 52us/step - loss: 0.0020 - acc: 0.9994\n",
            "Epoch 8/20\n",
            "60000/60000 [==============================] - 3s 52us/step - loss: 0.0013 - acc: 0.9997\n",
            "Epoch 9/20\n",
            "60000/60000 [==============================] - 3s 51us/step - loss: 0.0015 - acc: 0.9996\n",
            "Epoch 10/20\n",
            "60000/60000 [==============================] - 3s 51us/step - loss: 0.0017 - acc: 0.9996\n",
            "Epoch 11/20\n",
            "54000/60000 [==========================>...] - ETA: 0s - loss: 0.0060 - acc: 0.9982"
          ],
          "name": "stdout"
        },
        {
          "output_type": "stream",
          "text": [
            "60000/60000 [==============================] - 3s 50us/step - loss: 0.0060 - acc: 0.9982\n",
            "Epoch 12/20\n",
            "60000/60000 [==============================] - 3s 51us/step - loss: 0.0025 - acc: 0.9993\n",
            "Epoch 13/20\n",
            "60000/60000 [==============================] - 3s 50us/step - loss: 6.8712e-04 - acc: 0.9999\n",
            "Epoch 14/20\n",
            "60000/60000 [==============================] - 3s 50us/step - loss: 3.7731e-04 - acc: 1.0000\n",
            "Epoch 15/20\n",
            "60000/60000 [==============================] - 3s 50us/step - loss: 4.5401e-04 - acc: 0.9999\n",
            "Epoch 16/20\n",
            "55000/60000 [==========================>...] - ETA: 0s - loss: 8.0879e-05 - acc: 1.0000"
          ],
          "name": "stdout"
        },
        {
          "output_type": "stream",
          "text": [
            "60000/60000 [==============================] - 3s 51us/step - loss: 3.4706e-04 - acc: 1.0000\n",
            "Epoch 17/20\n",
            "60000/60000 [==============================] - 3s 50us/step - loss: 2.9805e-04 - acc: 1.0000\n",
            "Epoch 18/20\n",
            "60000/60000 [==============================] - 3s 51us/step - loss: 2.9205e-04 - acc: 1.0000\n",
            "Epoch 19/20\n",
            "60000/60000 [==============================] - 3s 51us/step - loss: 2.8856e-04 - acc: 1.0000\n",
            "Epoch 20/20\n",
            "60000/60000 [==============================] - 3s 51us/step - loss: 2.8587e-04 - acc: 1.0000\n",
            "10000/10000 [==============================] - 1s 126us/step\n",
            "loss : 0.03399103180615009\n",
            "accuracy : 0.9925\n"
          ],
          "name": "stdout"
        }
      ]
    }
  ]
}