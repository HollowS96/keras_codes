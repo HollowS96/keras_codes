{
 "cells": [
  {
   "cell_type": "markdown",
   "metadata": {},
   "source": [
    "# Regression Exercise - Solutions\n",
    "\n",
    "California Housing Data\n",
    "\n",
    "This data set contains information about all the block groups in California from the 1990 Census. In this sample a block group on average includes 1425.5 individuals living in a geographically compact area. \n",
    "\n",
    "The task is to aproximate the median house value of each block from the values of the rest of the variables. \n",
    "\n",
    " It has been obtained from the LIACC repository. The original page where the data set can be found is: http://www.liaad.up.pt/~ltorgo/Regression/DataSets.html.\n",
    " "
   ]
  },
  {
   "cell_type": "markdown",
   "metadata": {
    "collapsed": true
   },
   "source": [
    "The Features:\n",
    " \n",
    "* housingMedianAge: continuous. \n",
    "* totalRooms: continuous. \n",
    "* totalBedrooms: continuous. \n",
    "* population: continuous. \n",
    "* households: continuous. \n",
    "* medianIncome: continuous. \n",
    "* medianHouseValue: continuous. "
   ]
  },
  {
   "cell_type": "markdown",
   "metadata": {},
   "source": [
    "## The Data"
   ]
  },
  {
   "cell_type": "markdown",
   "metadata": {},
   "source": [
    "** Import the cal_housing.csv file with pandas. Separate it into a training (70%) and testing set(30%).**"
   ]
  },
  {
   "cell_type": "code",
   "execution_count": 1,
   "metadata": {},
   "outputs": [],
   "source": [
    "import pandas as pd"
   ]
  },
  {
   "cell_type": "code",
   "execution_count": 2,
   "metadata": {},
   "outputs": [],
   "source": [
    "housing = pd.read_csv('cal_housing_clean.csv')"
   ]
  },
  {
   "cell_type": "code",
   "execution_count": 3,
   "metadata": {},
   "outputs": [
    {
     "data": {
      "text/html": [
       "<div>\n",
       "<style scoped>\n",
       "    .dataframe tbody tr th:only-of-type {\n",
       "        vertical-align: middle;\n",
       "    }\n",
       "\n",
       "    .dataframe tbody tr th {\n",
       "        vertical-align: top;\n",
       "    }\n",
       "\n",
       "    .dataframe thead th {\n",
       "        text-align: right;\n",
       "    }\n",
       "</style>\n",
       "<table border=\"1\" class=\"dataframe\">\n",
       "  <thead>\n",
       "    <tr style=\"text-align: right;\">\n",
       "      <th></th>\n",
       "      <th>housingMedianAge</th>\n",
       "      <th>totalRooms</th>\n",
       "      <th>totalBedrooms</th>\n",
       "      <th>population</th>\n",
       "      <th>households</th>\n",
       "      <th>medianIncome</th>\n",
       "      <th>medianHouseValue</th>\n",
       "    </tr>\n",
       "  </thead>\n",
       "  <tbody>\n",
       "    <tr>\n",
       "      <th>0</th>\n",
       "      <td>41.0</td>\n",
       "      <td>880.0</td>\n",
       "      <td>129.0</td>\n",
       "      <td>322.0</td>\n",
       "      <td>126.0</td>\n",
       "      <td>8.3252</td>\n",
       "      <td>452600.0</td>\n",
       "    </tr>\n",
       "    <tr>\n",
       "      <th>1</th>\n",
       "      <td>21.0</td>\n",
       "      <td>7099.0</td>\n",
       "      <td>1106.0</td>\n",
       "      <td>2401.0</td>\n",
       "      <td>1138.0</td>\n",
       "      <td>8.3014</td>\n",
       "      <td>358500.0</td>\n",
       "    </tr>\n",
       "    <tr>\n",
       "      <th>2</th>\n",
       "      <td>52.0</td>\n",
       "      <td>1467.0</td>\n",
       "      <td>190.0</td>\n",
       "      <td>496.0</td>\n",
       "      <td>177.0</td>\n",
       "      <td>7.2574</td>\n",
       "      <td>352100.0</td>\n",
       "    </tr>\n",
       "    <tr>\n",
       "      <th>3</th>\n",
       "      <td>52.0</td>\n",
       "      <td>1274.0</td>\n",
       "      <td>235.0</td>\n",
       "      <td>558.0</td>\n",
       "      <td>219.0</td>\n",
       "      <td>5.6431</td>\n",
       "      <td>341300.0</td>\n",
       "    </tr>\n",
       "    <tr>\n",
       "      <th>4</th>\n",
       "      <td>52.0</td>\n",
       "      <td>1627.0</td>\n",
       "      <td>280.0</td>\n",
       "      <td>565.0</td>\n",
       "      <td>259.0</td>\n",
       "      <td>3.8462</td>\n",
       "      <td>342200.0</td>\n",
       "    </tr>\n",
       "  </tbody>\n",
       "</table>\n",
       "</div>"
      ],
      "text/plain": [
       "   housingMedianAge  totalRooms  totalBedrooms  population  households  \\\n",
       "0              41.0       880.0          129.0       322.0       126.0   \n",
       "1              21.0      7099.0         1106.0      2401.0      1138.0   \n",
       "2              52.0      1467.0          190.0       496.0       177.0   \n",
       "3              52.0      1274.0          235.0       558.0       219.0   \n",
       "4              52.0      1627.0          280.0       565.0       259.0   \n",
       "\n",
       "   medianIncome  medianHouseValue  \n",
       "0        8.3252          452600.0  \n",
       "1        8.3014          358500.0  \n",
       "2        7.2574          352100.0  \n",
       "3        5.6431          341300.0  \n",
       "4        3.8462          342200.0  "
      ]
     },
     "execution_count": 3,
     "metadata": {},
     "output_type": "execute_result"
    }
   ],
   "source": [
    "housing.head()"
   ]
  },
  {
   "cell_type": "code",
   "execution_count": 4,
   "metadata": {},
   "outputs": [
    {
     "data": {
      "text/html": [
       "<div>\n",
       "<style scoped>\n",
       "    .dataframe tbody tr th:only-of-type {\n",
       "        vertical-align: middle;\n",
       "    }\n",
       "\n",
       "    .dataframe tbody tr th {\n",
       "        vertical-align: top;\n",
       "    }\n",
       "\n",
       "    .dataframe thead th {\n",
       "        text-align: right;\n",
       "    }\n",
       "</style>\n",
       "<table border=\"1\" class=\"dataframe\">\n",
       "  <thead>\n",
       "    <tr style=\"text-align: right;\">\n",
       "      <th></th>\n",
       "      <th>count</th>\n",
       "      <th>mean</th>\n",
       "      <th>std</th>\n",
       "      <th>min</th>\n",
       "      <th>25%</th>\n",
       "      <th>50%</th>\n",
       "      <th>75%</th>\n",
       "      <th>max</th>\n",
       "    </tr>\n",
       "  </thead>\n",
       "  <tbody>\n",
       "    <tr>\n",
       "      <th>housingMedianAge</th>\n",
       "      <td>20640.0</td>\n",
       "      <td>28.639486</td>\n",
       "      <td>12.585558</td>\n",
       "      <td>1.0000</td>\n",
       "      <td>18.0000</td>\n",
       "      <td>29.0000</td>\n",
       "      <td>37.00000</td>\n",
       "      <td>52.0000</td>\n",
       "    </tr>\n",
       "    <tr>\n",
       "      <th>totalRooms</th>\n",
       "      <td>20640.0</td>\n",
       "      <td>2635.763081</td>\n",
       "      <td>2181.615252</td>\n",
       "      <td>2.0000</td>\n",
       "      <td>1447.7500</td>\n",
       "      <td>2127.0000</td>\n",
       "      <td>3148.00000</td>\n",
       "      <td>39320.0000</td>\n",
       "    </tr>\n",
       "    <tr>\n",
       "      <th>totalBedrooms</th>\n",
       "      <td>20640.0</td>\n",
       "      <td>537.898014</td>\n",
       "      <td>421.247906</td>\n",
       "      <td>1.0000</td>\n",
       "      <td>295.0000</td>\n",
       "      <td>435.0000</td>\n",
       "      <td>647.00000</td>\n",
       "      <td>6445.0000</td>\n",
       "    </tr>\n",
       "    <tr>\n",
       "      <th>population</th>\n",
       "      <td>20640.0</td>\n",
       "      <td>1425.476744</td>\n",
       "      <td>1132.462122</td>\n",
       "      <td>3.0000</td>\n",
       "      <td>787.0000</td>\n",
       "      <td>1166.0000</td>\n",
       "      <td>1725.00000</td>\n",
       "      <td>35682.0000</td>\n",
       "    </tr>\n",
       "    <tr>\n",
       "      <th>households</th>\n",
       "      <td>20640.0</td>\n",
       "      <td>499.539680</td>\n",
       "      <td>382.329753</td>\n",
       "      <td>1.0000</td>\n",
       "      <td>280.0000</td>\n",
       "      <td>409.0000</td>\n",
       "      <td>605.00000</td>\n",
       "      <td>6082.0000</td>\n",
       "    </tr>\n",
       "    <tr>\n",
       "      <th>medianIncome</th>\n",
       "      <td>20640.0</td>\n",
       "      <td>3.870671</td>\n",
       "      <td>1.899822</td>\n",
       "      <td>0.4999</td>\n",
       "      <td>2.5634</td>\n",
       "      <td>3.5348</td>\n",
       "      <td>4.74325</td>\n",
       "      <td>15.0001</td>\n",
       "    </tr>\n",
       "    <tr>\n",
       "      <th>medianHouseValue</th>\n",
       "      <td>20640.0</td>\n",
       "      <td>206855.816909</td>\n",
       "      <td>115395.615874</td>\n",
       "      <td>14999.0000</td>\n",
       "      <td>119600.0000</td>\n",
       "      <td>179700.0000</td>\n",
       "      <td>264725.00000</td>\n",
       "      <td>500001.0000</td>\n",
       "    </tr>\n",
       "  </tbody>\n",
       "</table>\n",
       "</div>"
      ],
      "text/plain": [
       "                    count           mean            std         min  \\\n",
       "housingMedianAge  20640.0      28.639486      12.585558      1.0000   \n",
       "totalRooms        20640.0    2635.763081    2181.615252      2.0000   \n",
       "totalBedrooms     20640.0     537.898014     421.247906      1.0000   \n",
       "population        20640.0    1425.476744    1132.462122      3.0000   \n",
       "households        20640.0     499.539680     382.329753      1.0000   \n",
       "medianIncome      20640.0       3.870671       1.899822      0.4999   \n",
       "medianHouseValue  20640.0  206855.816909  115395.615874  14999.0000   \n",
       "\n",
       "                          25%          50%           75%          max  \n",
       "housingMedianAge      18.0000      29.0000      37.00000      52.0000  \n",
       "totalRooms          1447.7500    2127.0000    3148.00000   39320.0000  \n",
       "totalBedrooms        295.0000     435.0000     647.00000    6445.0000  \n",
       "population           787.0000    1166.0000    1725.00000   35682.0000  \n",
       "households           280.0000     409.0000     605.00000    6082.0000  \n",
       "medianIncome           2.5634       3.5348       4.74325      15.0001  \n",
       "medianHouseValue  119600.0000  179700.0000  264725.00000  500001.0000  "
      ]
     },
     "execution_count": 4,
     "metadata": {},
     "output_type": "execute_result"
    }
   ],
   "source": [
    "housing.describe().transpose()"
   ]
  },
  {
   "cell_type": "code",
   "execution_count": 5,
   "metadata": {
    "scrolled": true
   },
   "outputs": [],
   "source": [
    "x_data = housing.drop(['medianHouseValue'],axis=1)"
   ]
  },
  {
   "cell_type": "code",
   "execution_count": 6,
   "metadata": {},
   "outputs": [],
   "source": [
    "y_val = housing['medianHouseValue']"
   ]
  },
  {
   "cell_type": "code",
   "execution_count": 7,
   "metadata": {},
   "outputs": [],
   "source": [
    "from sklearn.model_selection import train_test_split"
   ]
  },
  {
   "cell_type": "code",
   "execution_count": 8,
   "metadata": {},
   "outputs": [],
   "source": [
    "X_train, X_test, y_train, y_test = train_test_split(x_data,y_val,test_size=0.3,random_state=101)"
   ]
  },
  {
   "cell_type": "markdown",
   "metadata": {},
   "source": [
    "### Scale the Feature Data\n",
    "\n",
    "** Use sklearn preprocessing to create a MinMaxScaler for the feature data. Fit this scaler only to the training data. Then use it to transform X_test and X_train. Then use the scaled X_test and X_train along with pd.Dataframe to re-create two dataframes of scaled data.**"
   ]
  },
  {
   "cell_type": "code",
   "execution_count": 9,
   "metadata": {},
   "outputs": [],
   "source": [
    "from sklearn.preprocessing import MinMaxScaler"
   ]
  },
  {
   "cell_type": "code",
   "execution_count": 10,
   "metadata": {},
   "outputs": [],
   "source": [
    "scaler = MinMaxScaler()"
   ]
  },
  {
   "cell_type": "code",
   "execution_count": 11,
   "metadata": {},
   "outputs": [
    {
     "data": {
      "text/plain": [
       "MinMaxScaler(copy=True, feature_range=(0, 1))"
      ]
     },
     "execution_count": 11,
     "metadata": {},
     "output_type": "execute_result"
    }
   ],
   "source": [
    "scaler.fit(X_train)"
   ]
  },
  {
   "cell_type": "code",
   "execution_count": 12,
   "metadata": {},
   "outputs": [],
   "source": [
    "X_train = pd.DataFrame(data=scaler.transform(X_train),columns = X_train.columns,index=X_train.index)"
   ]
  },
  {
   "cell_type": "code",
   "execution_count": 13,
   "metadata": {},
   "outputs": [],
   "source": [
    "X_test = pd.DataFrame(data=scaler.transform(X_test),columns = X_test.columns,index=X_test.index)"
   ]
  },
  {
   "cell_type": "markdown",
   "metadata": {},
   "source": [
    "### Create Feature Columns\n",
    "\n",
    "** Create the necessary tf.feature_column objects for the estimator. They should all be trated as continuous numeric_columns. **"
   ]
  },
  {
   "cell_type": "code",
   "execution_count": 14,
   "metadata": {},
   "outputs": [
    {
     "data": {
      "text/plain": [
       "Index(['housingMedianAge', 'totalRooms', 'totalBedrooms', 'population',\n",
       "       'households', 'medianIncome', 'medianHouseValue'],\n",
       "      dtype='object')"
      ]
     },
     "execution_count": 14,
     "metadata": {},
     "output_type": "execute_result"
    }
   ],
   "source": [
    "housing.columns"
   ]
  },
  {
   "cell_type": "code",
   "execution_count": 15,
   "metadata": {},
   "outputs": [],
   "source": [
    "import tensorflow as tf"
   ]
  },
  {
   "cell_type": "code",
   "execution_count": 16,
   "metadata": {},
   "outputs": [],
   "source": [
    "age = tf.feature_column.numeric_column('housingMedianAge')\n",
    "rooms = tf.feature_column.numeric_column('totalRooms')\n",
    "bedrooms = tf.feature_column.numeric_column('totalBedrooms')\n",
    "pop = tf.feature_column.numeric_column('population')\n",
    "households = tf.feature_column.numeric_column('households')\n",
    "income = tf.feature_column.numeric_column('medianIncome')"
   ]
  },
  {
   "cell_type": "code",
   "execution_count": 17,
   "metadata": {},
   "outputs": [],
   "source": [
    "feat_cols = [ age,rooms,bedrooms,pop,households,income]"
   ]
  },
  {
   "cell_type": "markdown",
   "metadata": {},
   "source": [
    "** Create the input function for the estimator object. (play around with batch_size and num_epochs)**"
   ]
  },
  {
   "cell_type": "code",
   "execution_count": 18,
   "metadata": {},
   "outputs": [],
   "source": [
    "input_func = tf.estimator.inputs.pandas_input_fn(x=X_train,y=y_train ,batch_size=10,num_epochs=1000,\n",
    "                                            shuffle=True)"
   ]
  },
  {
   "cell_type": "markdown",
   "metadata": {},
   "source": [
    "** Create the estimator model. Use a DNNRegressor. Play around with the hidden units! **"
   ]
  },
  {
   "cell_type": "code",
   "execution_count": 19,
   "metadata": {},
   "outputs": [
    {
     "name": "stdout",
     "output_type": "stream",
     "text": [
      "INFO:tensorflow:Using default config.\n",
      "WARNING:tensorflow:Using temporary folder as model directory: /tmp/tmpozou324a\n",
      "INFO:tensorflow:Using config: {'_model_dir': '/tmp/tmpozou324a', '_tf_random_seed': None, '_save_summary_steps': 100, '_save_checkpoints_steps': None, '_save_checkpoints_secs': 600, '_session_config': None, '_keep_checkpoint_max': 5, '_keep_checkpoint_every_n_hours': 10000, '_log_step_count_steps': 100, '_train_distribute': None, '_device_fn': None, '_service': None, '_cluster_spec': <tensorflow.python.training.server_lib.ClusterSpec object at 0x7f7a7c486240>, '_task_type': 'worker', '_task_id': 0, '_global_id_in_cluster': 0, '_master': '', '_evaluation_master': '', '_is_chief': True, '_num_ps_replicas': 0, '_num_worker_replicas': 1}\n"
     ]
    }
   ],
   "source": [
    "model = tf.estimator.DNNRegressor(hidden_units=[6,6,6],feature_columns=feat_cols)"
   ]
  },
  {
   "cell_type": "markdown",
   "metadata": {},
   "source": [
    "##### ** Train the model for ~1,000 steps. (Later come back to this and train it for more and check for improvement) **"
   ]
  },
  {
   "cell_type": "code",
   "execution_count": 20,
   "metadata": {},
   "outputs": [
    {
     "name": "stdout",
     "output_type": "stream",
     "text": [
      "INFO:tensorflow:Calling model_fn.\n",
      "INFO:tensorflow:Done calling model_fn.\n",
      "INFO:tensorflow:Create CheckpointSaverHook.\n",
      "INFO:tensorflow:Graph was finalized.\n",
      "INFO:tensorflow:Running local_init_op.\n",
      "INFO:tensorflow:Done running local_init_op.\n",
      "INFO:tensorflow:Saving checkpoints for 0 into /tmp/tmpozou324a/model.ckpt.\n",
      "INFO:tensorflow:loss = 620508000000.0, step = 1\n",
      "INFO:tensorflow:global_step/sec: 406.056\n",
      "INFO:tensorflow:loss = 680268300000.0, step = 101 (0.248 sec)\n",
      "INFO:tensorflow:global_step/sec: 429.31\n",
      "INFO:tensorflow:loss = 681823700000.0, step = 201 (0.234 sec)\n",
      "INFO:tensorflow:global_step/sec: 428.507\n",
      "INFO:tensorflow:loss = 831848450000.0, step = 301 (0.234 sec)\n",
      "INFO:tensorflow:global_step/sec: 412.939\n",
      "INFO:tensorflow:loss = 316747380000.0, step = 401 (0.240 sec)\n",
      "INFO:tensorflow:global_step/sec: 435.577\n",
      "INFO:tensorflow:loss = 374248600000.0, step = 501 (0.233 sec)\n",
      "INFO:tensorflow:global_step/sec: 421.974\n",
      "INFO:tensorflow:loss = 427569600000.0, step = 601 (0.235 sec)\n",
      "INFO:tensorflow:global_step/sec: 332.145\n",
      "INFO:tensorflow:loss = 90066440000.0, step = 701 (0.301 sec)\n",
      "INFO:tensorflow:global_step/sec: 357.875\n",
      "INFO:tensorflow:loss = 298207500000.0, step = 801 (0.281 sec)\n",
      "INFO:tensorflow:global_step/sec: 433.988\n",
      "INFO:tensorflow:loss = 46125335000.0, step = 901 (0.230 sec)\n",
      "INFO:tensorflow:global_step/sec: 419.053\n",
      "INFO:tensorflow:loss = 57599550000.0, step = 1001 (0.237 sec)\n",
      "INFO:tensorflow:global_step/sec: 421.458\n",
      "INFO:tensorflow:loss = 87401330000.0, step = 1101 (0.237 sec)\n",
      "INFO:tensorflow:global_step/sec: 444.097\n",
      "INFO:tensorflow:loss = 219624360000.0, step = 1201 (0.225 sec)\n",
      "INFO:tensorflow:global_step/sec: 408.783\n",
      "INFO:tensorflow:loss = 108136400000.0, step = 1301 (0.244 sec)\n",
      "INFO:tensorflow:global_step/sec: 413.657\n",
      "INFO:tensorflow:loss = 112197665000.0, step = 1401 (0.244 sec)\n",
      "INFO:tensorflow:global_step/sec: 410.729\n",
      "INFO:tensorflow:loss = 58284925000.0, step = 1501 (0.241 sec)\n",
      "INFO:tensorflow:global_step/sec: 439.849\n",
      "INFO:tensorflow:loss = 191998690000.0, step = 1601 (0.231 sec)\n",
      "INFO:tensorflow:global_step/sec: 427.981\n",
      "INFO:tensorflow:loss = 175036370000.0, step = 1701 (0.231 sec)\n",
      "INFO:tensorflow:global_step/sec: 439.647\n",
      "INFO:tensorflow:loss = 114365890000.0, step = 1801 (0.231 sec)\n",
      "INFO:tensorflow:global_step/sec: 327.899\n",
      "INFO:tensorflow:loss = 76397510000.0, step = 1901 (0.304 sec)\n",
      "INFO:tensorflow:global_step/sec: 367.065\n",
      "INFO:tensorflow:loss = 103870880000.0, step = 2001 (0.278 sec)\n",
      "INFO:tensorflow:global_step/sec: 416.521\n",
      "INFO:tensorflow:loss = 99784920000.0, step = 2101 (0.232 sec)\n",
      "INFO:tensorflow:global_step/sec: 429.275\n",
      "INFO:tensorflow:loss = 130702795000.0, step = 2201 (0.234 sec)\n",
      "INFO:tensorflow:global_step/sec: 412.368\n",
      "INFO:tensorflow:loss = 88237990000.0, step = 2301 (0.240 sec)\n",
      "INFO:tensorflow:global_step/sec: 424.478\n",
      "INFO:tensorflow:loss = 208969020000.0, step = 2401 (0.238 sec)\n",
      "INFO:tensorflow:global_step/sec: 409.839\n",
      "INFO:tensorflow:loss = 84371110000.0, step = 2501 (0.242 sec)\n",
      "INFO:tensorflow:global_step/sec: 426.828\n",
      "INFO:tensorflow:loss = 48916170000.0, step = 2601 (0.234 sec)\n",
      "INFO:tensorflow:global_step/sec: 416.401\n",
      "INFO:tensorflow:loss = 162142770000.0, step = 2701 (0.241 sec)\n",
      "INFO:tensorflow:global_step/sec: 269.097\n",
      "INFO:tensorflow:loss = 95206160000.0, step = 2801 (0.370 sec)\n",
      "INFO:tensorflow:global_step/sec: 418.877\n",
      "INFO:tensorflow:loss = 91095480000.0, step = 2901 (0.240 sec)\n",
      "INFO:tensorflow:global_step/sec: 414.067\n",
      "INFO:tensorflow:loss = 90254460000.0, step = 3001 (0.242 sec)\n",
      "INFO:tensorflow:global_step/sec: 436.128\n",
      "INFO:tensorflow:loss = 74600230000.0, step = 3101 (0.228 sec)\n",
      "INFO:tensorflow:global_step/sec: 417.82\n",
      "INFO:tensorflow:loss = 135406576000.0, step = 3201 (0.239 sec)\n",
      "INFO:tensorflow:global_step/sec: 428.009\n",
      "INFO:tensorflow:loss = 98280006000.0, step = 3301 (0.235 sec)\n",
      "INFO:tensorflow:global_step/sec: 416.268\n",
      "INFO:tensorflow:loss = 130917980000.0, step = 3401 (0.239 sec)\n",
      "INFO:tensorflow:global_step/sec: 331.407\n",
      "INFO:tensorflow:loss = 15908514000.0, step = 3501 (0.304 sec)\n",
      "INFO:tensorflow:global_step/sec: 431.284\n",
      "INFO:tensorflow:loss = 97421710000.0, step = 3601 (0.229 sec)\n",
      "INFO:tensorflow:global_step/sec: 410.775\n",
      "INFO:tensorflow:loss = 60808580000.0, step = 3701 (0.247 sec)\n",
      "INFO:tensorflow:global_step/sec: 361.077\n",
      "INFO:tensorflow:loss = 126831230000.0, step = 3801 (0.274 sec)\n",
      "INFO:tensorflow:global_step/sec: 355.851\n",
      "INFO:tensorflow:loss = 30730880000.0, step = 3901 (0.284 sec)\n",
      "INFO:tensorflow:global_step/sec: 371.927\n",
      "INFO:tensorflow:loss = 176380410000.0, step = 4001 (0.266 sec)\n",
      "INFO:tensorflow:global_step/sec: 426.037\n",
      "INFO:tensorflow:loss = 72354730000.0, step = 4101 (0.237 sec)\n",
      "INFO:tensorflow:global_step/sec: 361.811\n",
      "INFO:tensorflow:loss = 78195940000.0, step = 4201 (0.275 sec)\n",
      "INFO:tensorflow:global_step/sec: 418.176\n",
      "INFO:tensorflow:loss = 92836660000.0, step = 4301 (0.241 sec)\n",
      "INFO:tensorflow:global_step/sec: 444.78\n",
      "INFO:tensorflow:loss = 94901100000.0, step = 4401 (0.225 sec)\n",
      "INFO:tensorflow:global_step/sec: 430.757\n",
      "INFO:tensorflow:loss = 105355820000.0, step = 4501 (0.231 sec)\n",
      "INFO:tensorflow:global_step/sec: 280.774\n",
      "INFO:tensorflow:loss = 65184680000.0, step = 4601 (0.357 sec)\n",
      "INFO:tensorflow:global_step/sec: 442.517\n",
      "INFO:tensorflow:loss = 41789760000.0, step = 4701 (0.224 sec)\n",
      "INFO:tensorflow:global_step/sec: 449.068\n",
      "INFO:tensorflow:loss = 206159220000.0, step = 4801 (0.221 sec)\n",
      "INFO:tensorflow:global_step/sec: 294.135\n",
      "INFO:tensorflow:loss = 79837010000.0, step = 4901 (0.344 sec)\n",
      "INFO:tensorflow:global_step/sec: 354.292\n",
      "INFO:tensorflow:loss = 45022400000.0, step = 5001 (0.278 sec)\n",
      "INFO:tensorflow:global_step/sec: 412.545\n",
      "INFO:tensorflow:loss = 67166425000.0, step = 5101 (0.244 sec)\n",
      "INFO:tensorflow:global_step/sec: 448.071\n",
      "INFO:tensorflow:loss = 76638610000.0, step = 5201 (0.222 sec)\n",
      "INFO:tensorflow:global_step/sec: 432.338\n",
      "INFO:tensorflow:loss = 155576500000.0, step = 5301 (0.231 sec)\n",
      "INFO:tensorflow:global_step/sec: 285.596\n",
      "INFO:tensorflow:loss = 68123853000.0, step = 5401 (0.351 sec)\n",
      "INFO:tensorflow:global_step/sec: 330.044\n",
      "INFO:tensorflow:loss = 57162047000.0, step = 5501 (0.302 sec)\n",
      "INFO:tensorflow:global_step/sec: 456.738\n",
      "INFO:tensorflow:loss = 143987020000.0, step = 5601 (0.221 sec)\n",
      "INFO:tensorflow:global_step/sec: 434.248\n",
      "INFO:tensorflow:loss = 193075690000.0, step = 5701 (0.230 sec)\n",
      "INFO:tensorflow:global_step/sec: 459.568\n",
      "INFO:tensorflow:loss = 29265179000.0, step = 5801 (0.218 sec)\n",
      "INFO:tensorflow:global_step/sec: 410.367\n",
      "INFO:tensorflow:loss = 89898490000.0, step = 5901 (0.248 sec)\n",
      "INFO:tensorflow:global_step/sec: 349.445\n",
      "INFO:tensorflow:loss = 13830631000.0, step = 6001 (0.289 sec)\n",
      "INFO:tensorflow:global_step/sec: 336.21\n",
      "INFO:tensorflow:loss = 105284700000.0, step = 6101 (0.292 sec)\n",
      "INFO:tensorflow:global_step/sec: 349.032\n",
      "INFO:tensorflow:loss = 114133390000.0, step = 6201 (0.293 sec)\n",
      "INFO:tensorflow:global_step/sec: 375.723\n",
      "INFO:tensorflow:loss = 237929100000.0, step = 6301 (0.257 sec)\n",
      "INFO:tensorflow:global_step/sec: 336.143\n",
      "INFO:tensorflow:loss = 58801377000.0, step = 6401 (0.298 sec)\n",
      "INFO:tensorflow:global_step/sec: 375.899\n",
      "INFO:tensorflow:loss = 88905760000.0, step = 6501 (0.267 sec)\n",
      "INFO:tensorflow:global_step/sec: 280.982\n",
      "INFO:tensorflow:loss = 119746560000.0, step = 6601 (0.354 sec)\n",
      "INFO:tensorflow:global_step/sec: 405.977\n",
      "INFO:tensorflow:loss = 71489710000.0, step = 6701 (0.250 sec)\n",
      "INFO:tensorflow:global_step/sec: 440.315\n",
      "INFO:tensorflow:loss = 89117740000.0, step = 6801 (0.225 sec)\n",
      "INFO:tensorflow:global_step/sec: 417.266\n",
      "INFO:tensorflow:loss = 110905210000.0, step = 6901 (0.240 sec)\n",
      "INFO:tensorflow:global_step/sec: 404.386\n",
      "INFO:tensorflow:loss = 111978095000.0, step = 7001 (0.246 sec)\n",
      "INFO:tensorflow:global_step/sec: 368.226\n",
      "INFO:tensorflow:loss = 111707830000.0, step = 7101 (0.273 sec)\n",
      "INFO:tensorflow:global_step/sec: 417.11\n",
      "INFO:tensorflow:loss = 56536080000.0, step = 7201 (0.242 sec)\n",
      "INFO:tensorflow:global_step/sec: 415.613\n",
      "INFO:tensorflow:loss = 66851310000.0, step = 7301 (0.238 sec)\n",
      "INFO:tensorflow:global_step/sec: 434.616\n",
      "INFO:tensorflow:loss = 102768706000.0, step = 7401 (0.228 sec)\n",
      "INFO:tensorflow:global_step/sec: 355.681\n",
      "INFO:tensorflow:loss = 34777887000.0, step = 7501 (0.283 sec)\n",
      "INFO:tensorflow:global_step/sec: 430.902\n",
      "INFO:tensorflow:loss = 121185436000.0, step = 7601 (0.233 sec)\n"
     ]
    },
    {
     "name": "stdout",
     "output_type": "stream",
     "text": [
      "INFO:tensorflow:global_step/sec: 416.571\n",
      "INFO:tensorflow:loss = 123200290000.0, step = 7701 (0.239 sec)\n",
      "INFO:tensorflow:global_step/sec: 441.248\n",
      "INFO:tensorflow:loss = 40542933000.0, step = 7801 (0.225 sec)\n",
      "INFO:tensorflow:global_step/sec: 310.358\n",
      "INFO:tensorflow:loss = 164464690000.0, step = 7901 (0.323 sec)\n",
      "INFO:tensorflow:global_step/sec: 430.514\n",
      "INFO:tensorflow:loss = 35389563000.0, step = 8001 (0.234 sec)\n",
      "INFO:tensorflow:global_step/sec: 388.747\n",
      "INFO:tensorflow:loss = 17733442000.0, step = 8101 (0.257 sec)\n",
      "INFO:tensorflow:global_step/sec: 422.493\n",
      "INFO:tensorflow:loss = 74958110000.0, step = 8201 (0.236 sec)\n",
      "INFO:tensorflow:global_step/sec: 393.292\n",
      "INFO:tensorflow:loss = 68397850000.0, step = 8301 (0.254 sec)\n",
      "INFO:tensorflow:global_step/sec: 424.172\n",
      "INFO:tensorflow:loss = 125180520000.0, step = 8401 (0.238 sec)\n",
      "INFO:tensorflow:global_step/sec: 382.446\n",
      "INFO:tensorflow:loss = 113789714000.0, step = 8501 (0.259 sec)\n",
      "INFO:tensorflow:global_step/sec: 439.02\n",
      "INFO:tensorflow:loss = 27863865000.0, step = 8601 (0.232 sec)\n",
      "INFO:tensorflow:global_step/sec: 365.359\n",
      "INFO:tensorflow:loss = 77492980000.0, step = 8701 (0.278 sec)\n",
      "INFO:tensorflow:global_step/sec: 406.941\n",
      "INFO:tensorflow:loss = 201014230000.0, step = 8801 (0.241 sec)\n",
      "INFO:tensorflow:global_step/sec: 388.271\n",
      "INFO:tensorflow:loss = 57841680000.0, step = 8901 (0.255 sec)\n",
      "INFO:tensorflow:global_step/sec: 427.62\n",
      "INFO:tensorflow:loss = 184303730000.0, step = 9001 (0.232 sec)\n",
      "INFO:tensorflow:global_step/sec: 382.258\n",
      "INFO:tensorflow:loss = 48923705000.0, step = 9101 (0.263 sec)\n",
      "INFO:tensorflow:global_step/sec: 436.641\n",
      "INFO:tensorflow:loss = 88691720000.0, step = 9201 (0.230 sec)\n",
      "INFO:tensorflow:global_step/sec: 365.773\n",
      "INFO:tensorflow:loss = 129560850000.0, step = 9301 (0.273 sec)\n",
      "INFO:tensorflow:global_step/sec: 436.05\n",
      "INFO:tensorflow:loss = 206628720000.0, step = 9401 (0.227 sec)\n",
      "INFO:tensorflow:global_step/sec: 378.041\n",
      "INFO:tensorflow:loss = 46095626000.0, step = 9501 (0.265 sec)\n",
      "INFO:tensorflow:global_step/sec: 400.583\n",
      "INFO:tensorflow:loss = 43426374000.0, step = 9601 (0.256 sec)\n",
      "INFO:tensorflow:global_step/sec: 410.85\n",
      "INFO:tensorflow:loss = 145074390000.0, step = 9701 (0.237 sec)\n",
      "INFO:tensorflow:global_step/sec: 434.138\n",
      "INFO:tensorflow:loss = 111785886000.0, step = 9801 (0.230 sec)\n",
      "INFO:tensorflow:global_step/sec: 411.531\n",
      "INFO:tensorflow:loss = 90568040000.0, step = 9901 (0.247 sec)\n",
      "INFO:tensorflow:global_step/sec: 388.352\n",
      "INFO:tensorflow:loss = 49662230000.0, step = 10001 (0.255 sec)\n",
      "INFO:tensorflow:global_step/sec: 398.043\n",
      "INFO:tensorflow:loss = 47670686000.0, step = 10101 (0.252 sec)\n",
      "INFO:tensorflow:global_step/sec: 389.65\n",
      "INFO:tensorflow:loss = 18314074000.0, step = 10201 (0.258 sec)\n",
      "INFO:tensorflow:global_step/sec: 429.861\n",
      "INFO:tensorflow:loss = 68719650000.0, step = 10301 (0.232 sec)\n",
      "INFO:tensorflow:global_step/sec: 395.666\n",
      "INFO:tensorflow:loss = 131952886000.0, step = 10401 (0.252 sec)\n",
      "INFO:tensorflow:global_step/sec: 452.24\n",
      "INFO:tensorflow:loss = 112452160000.0, step = 10501 (0.221 sec)\n",
      "INFO:tensorflow:global_step/sec: 391.882\n",
      "INFO:tensorflow:loss = 108167740000.0, step = 10601 (0.261 sec)\n",
      "INFO:tensorflow:global_step/sec: 416.745\n",
      "INFO:tensorflow:loss = 57408210000.0, step = 10701 (0.234 sec)\n",
      "INFO:tensorflow:global_step/sec: 376.056\n",
      "INFO:tensorflow:loss = 56283690000.0, step = 10801 (0.268 sec)\n",
      "INFO:tensorflow:global_step/sec: 433.896\n",
      "INFO:tensorflow:loss = 182870020000.0, step = 10901 (0.231 sec)\n",
      "INFO:tensorflow:global_step/sec: 409.377\n",
      "INFO:tensorflow:loss = 91889295000.0, step = 11001 (0.244 sec)\n",
      "INFO:tensorflow:global_step/sec: 363.487\n",
      "INFO:tensorflow:loss = 71189000000.0, step = 11101 (0.273 sec)\n",
      "INFO:tensorflow:global_step/sec: 348.685\n",
      "INFO:tensorflow:loss = 114819420000.0, step = 11201 (0.291 sec)\n",
      "INFO:tensorflow:global_step/sec: 334.949\n",
      "INFO:tensorflow:loss = 56772776000.0, step = 11301 (0.294 sec)\n",
      "INFO:tensorflow:global_step/sec: 319.141\n",
      "INFO:tensorflow:loss = 84418940000.0, step = 11401 (0.313 sec)\n",
      "INFO:tensorflow:global_step/sec: 440.612\n",
      "INFO:tensorflow:loss = 108605070000.0, step = 11501 (0.229 sec)\n",
      "INFO:tensorflow:global_step/sec: 392.039\n",
      "INFO:tensorflow:loss = 87113750000.0, step = 11601 (0.254 sec)\n",
      "INFO:tensorflow:global_step/sec: 450.951\n",
      "INFO:tensorflow:loss = 124008840000.0, step = 11701 (0.221 sec)\n",
      "INFO:tensorflow:global_step/sec: 394.562\n",
      "INFO:tensorflow:loss = 45008460000.0, step = 11801 (0.254 sec)\n",
      "INFO:tensorflow:global_step/sec: 433.596\n",
      "INFO:tensorflow:loss = 230462650000.0, step = 11901 (0.233 sec)\n",
      "INFO:tensorflow:global_step/sec: 407.175\n",
      "INFO:tensorflow:loss = 135729590000.0, step = 12001 (0.243 sec)\n",
      "INFO:tensorflow:global_step/sec: 416.292\n",
      "INFO:tensorflow:loss = 72783890000.0, step = 12101 (0.247 sec)\n",
      "INFO:tensorflow:global_step/sec: 383.165\n",
      "INFO:tensorflow:loss = 78756920000.0, step = 12201 (0.254 sec)\n",
      "INFO:tensorflow:global_step/sec: 408.989\n",
      "INFO:tensorflow:loss = 95132295000.0, step = 12301 (0.248 sec)\n",
      "INFO:tensorflow:global_step/sec: 413.007\n",
      "INFO:tensorflow:loss = 101098920000.0, step = 12401 (0.243 sec)\n",
      "INFO:tensorflow:global_step/sec: 398.18\n",
      "INFO:tensorflow:loss = 122437860000.0, step = 12501 (0.249 sec)\n",
      "INFO:tensorflow:global_step/sec: 453.053\n",
      "INFO:tensorflow:loss = 71662310000.0, step = 12601 (0.221 sec)\n",
      "INFO:tensorflow:global_step/sec: 414.759\n",
      "INFO:tensorflow:loss = 110287905000.0, step = 12701 (0.239 sec)\n",
      "INFO:tensorflow:global_step/sec: 440.578\n",
      "INFO:tensorflow:loss = 87379980000.0, step = 12801 (0.227 sec)\n",
      "INFO:tensorflow:global_step/sec: 434.189\n",
      "INFO:tensorflow:loss = 217122320000.0, step = 12901 (0.231 sec)\n",
      "INFO:tensorflow:global_step/sec: 374.779\n",
      "INFO:tensorflow:loss = 152616060000.0, step = 13001 (0.269 sec)\n",
      "INFO:tensorflow:global_step/sec: 431.526\n",
      "INFO:tensorflow:loss = 272398060000.0, step = 13101 (0.233 sec)\n",
      "INFO:tensorflow:global_step/sec: 373.515\n",
      "INFO:tensorflow:loss = 86923080000.0, step = 13201 (0.264 sec)\n",
      "INFO:tensorflow:global_step/sec: 442.986\n",
      "INFO:tensorflow:loss = 48717250000.0, step = 13301 (0.226 sec)\n",
      "INFO:tensorflow:global_step/sec: 398.672\n",
      "INFO:tensorflow:loss = 60286650000.0, step = 13401 (0.256 sec)\n",
      "INFO:tensorflow:global_step/sec: 407.169\n",
      "INFO:tensorflow:loss = 108650000000.0, step = 13501 (0.241 sec)\n",
      "INFO:tensorflow:global_step/sec: 391.227\n",
      "INFO:tensorflow:loss = 66224177000.0, step = 13601 (0.254 sec)\n",
      "INFO:tensorflow:global_step/sec: 360.814\n",
      "INFO:tensorflow:loss = 72823590000.0, step = 13701 (0.281 sec)\n",
      "INFO:tensorflow:global_step/sec: 416.775\n",
      "INFO:tensorflow:loss = 57760850000.0, step = 13801 (0.237 sec)\n",
      "INFO:tensorflow:global_step/sec: 427.156\n",
      "INFO:tensorflow:loss = 84331580000.0, step = 13901 (0.238 sec)\n",
      "INFO:tensorflow:global_step/sec: 395.867\n",
      "INFO:tensorflow:loss = 67071906000.0, step = 14001 (0.249 sec)\n",
      "INFO:tensorflow:global_step/sec: 406.784\n",
      "INFO:tensorflow:loss = 97832620000.0, step = 14101 (0.245 sec)\n",
      "INFO:tensorflow:global_step/sec: 419.432\n",
      "INFO:tensorflow:loss = 100571860000.0, step = 14201 (0.239 sec)\n",
      "INFO:tensorflow:global_step/sec: 435.963\n",
      "INFO:tensorflow:loss = 47890960000.0, step = 14301 (0.231 sec)\n",
      "INFO:tensorflow:global_step/sec: 392.728\n",
      "INFO:tensorflow:loss = 48050670000.0, step = 14401 (0.253 sec)\n",
      "INFO:tensorflow:global_step/sec: 428.904\n",
      "INFO:tensorflow:loss = 76259280000.0, step = 14501 (0.234 sec)\n",
      "INFO:tensorflow:global_step/sec: 403.911\n",
      "INFO:tensorflow:loss = 88447386000.0, step = 14601 (0.249 sec)\n",
      "INFO:tensorflow:global_step/sec: 422.687\n",
      "INFO:tensorflow:loss = 225887000000.0, step = 14701 (0.242 sec)\n",
      "INFO:tensorflow:global_step/sec: 382.296\n",
      "INFO:tensorflow:loss = 109634460000.0, step = 14801 (0.253 sec)\n",
      "INFO:tensorflow:global_step/sec: 387.32\n",
      "INFO:tensorflow:loss = 94654790000.0, step = 14901 (0.258 sec)\n",
      "INFO:tensorflow:global_step/sec: 442.361\n",
      "INFO:tensorflow:loss = 80556180000.0, step = 15001 (0.226 sec)\n",
      "INFO:tensorflow:global_step/sec: 409.211\n",
      "INFO:tensorflow:loss = 81663170000.0, step = 15101 (0.247 sec)\n",
      "INFO:tensorflow:global_step/sec: 404.335\n",
      "INFO:tensorflow:loss = 75079025000.0, step = 15201 (0.247 sec)\n",
      "INFO:tensorflow:global_step/sec: 421.13\n",
      "INFO:tensorflow:loss = 76204730000.0, step = 15301 (0.242 sec)\n",
      "INFO:tensorflow:global_step/sec: 347.664\n",
      "INFO:tensorflow:loss = 141170930000.0, step = 15401 (0.282 sec)\n",
      "INFO:tensorflow:global_step/sec: 440.062\n",
      "INFO:tensorflow:loss = 57822446000.0, step = 15501 (0.231 sec)\n"
     ]
    },
    {
     "name": "stdout",
     "output_type": "stream",
     "text": [
      "INFO:tensorflow:global_step/sec: 389.204\n",
      "INFO:tensorflow:loss = 75363830000.0, step = 15601 (0.262 sec)\n",
      "INFO:tensorflow:global_step/sec: 391.029\n",
      "INFO:tensorflow:loss = 30347794000.0, step = 15701 (0.250 sec)\n",
      "INFO:tensorflow:global_step/sec: 447.607\n",
      "INFO:tensorflow:loss = 106077120000.0, step = 15801 (0.221 sec)\n",
      "INFO:tensorflow:global_step/sec: 397.707\n",
      "INFO:tensorflow:loss = 55558648000.0, step = 15901 (0.252 sec)\n",
      "INFO:tensorflow:global_step/sec: 434.134\n",
      "INFO:tensorflow:loss = 73812150000.0, step = 16001 (0.233 sec)\n",
      "INFO:tensorflow:global_step/sec: 389.149\n",
      "INFO:tensorflow:loss = 106038540000.0, step = 16101 (0.256 sec)\n",
      "INFO:tensorflow:global_step/sec: 440.544\n",
      "INFO:tensorflow:loss = 88610270000.0, step = 16201 (0.226 sec)\n",
      "INFO:tensorflow:global_step/sec: 394.731\n",
      "INFO:tensorflow:loss = 45837705000.0, step = 16301 (0.252 sec)\n",
      "INFO:tensorflow:global_step/sec: 408.773\n",
      "INFO:tensorflow:loss = 117306580000.0, step = 16401 (0.245 sec)\n",
      "INFO:tensorflow:global_step/sec: 415.248\n",
      "INFO:tensorflow:loss = 33348012000.0, step = 16501 (0.240 sec)\n",
      "INFO:tensorflow:global_step/sec: 379.429\n",
      "INFO:tensorflow:loss = 102971480000.0, step = 16601 (0.264 sec)\n",
      "INFO:tensorflow:global_step/sec: 468.58\n",
      "INFO:tensorflow:loss = 38018140000.0, step = 16701 (0.214 sec)\n",
      "INFO:tensorflow:global_step/sec: 394.269\n",
      "INFO:tensorflow:loss = 70133510000.0, step = 16801 (0.253 sec)\n",
      "INFO:tensorflow:global_step/sec: 417.656\n",
      "INFO:tensorflow:loss = 73075696000.0, step = 16901 (0.241 sec)\n",
      "INFO:tensorflow:global_step/sec: 421.276\n",
      "INFO:tensorflow:loss = 132574080000.0, step = 17001 (0.236 sec)\n",
      "INFO:tensorflow:global_step/sec: 423.243\n",
      "INFO:tensorflow:loss = 194678490000.0, step = 17101 (0.238 sec)\n",
      "INFO:tensorflow:global_step/sec: 428.991\n",
      "INFO:tensorflow:loss = 120975010000.0, step = 17201 (0.232 sec)\n",
      "INFO:tensorflow:global_step/sec: 392.775\n",
      "INFO:tensorflow:loss = 56141906000.0, step = 17301 (0.254 sec)\n",
      "INFO:tensorflow:global_step/sec: 411.465\n",
      "INFO:tensorflow:loss = 84005830000.0, step = 17401 (0.244 sec)\n",
      "INFO:tensorflow:global_step/sec: 416.252\n",
      "INFO:tensorflow:loss = 51964850000.0, step = 17501 (0.239 sec)\n",
      "INFO:tensorflow:global_step/sec: 446.4\n",
      "INFO:tensorflow:loss = 133474650000.0, step = 17601 (0.223 sec)\n",
      "INFO:tensorflow:global_step/sec: 394.26\n",
      "INFO:tensorflow:loss = 121893495000.0, step = 17701 (0.256 sec)\n",
      "INFO:tensorflow:global_step/sec: 398.622\n",
      "INFO:tensorflow:loss = 113045225000.0, step = 17801 (0.251 sec)\n",
      "INFO:tensorflow:global_step/sec: 436.862\n",
      "INFO:tensorflow:loss = 51923230000.0, step = 17901 (0.227 sec)\n",
      "INFO:tensorflow:global_step/sec: 394.389\n",
      "INFO:tensorflow:loss = 159773380000.0, step = 18001 (0.256 sec)\n",
      "INFO:tensorflow:global_step/sec: 391.245\n",
      "INFO:tensorflow:loss = 100843810000.0, step = 18101 (0.252 sec)\n",
      "INFO:tensorflow:global_step/sec: 380.394\n",
      "INFO:tensorflow:loss = 88915870000.0, step = 18201 (0.265 sec)\n",
      "INFO:tensorflow:global_step/sec: 446.87\n",
      "INFO:tensorflow:loss = 43659506000.0, step = 18301 (0.223 sec)\n",
      "INFO:tensorflow:global_step/sec: 406.387\n",
      "INFO:tensorflow:loss = 94493620000.0, step = 18401 (0.246 sec)\n",
      "INFO:tensorflow:global_step/sec: 442.054\n",
      "INFO:tensorflow:loss = 89795715000.0, step = 18501 (0.226 sec)\n",
      "INFO:tensorflow:global_step/sec: 429.654\n",
      "INFO:tensorflow:loss = 216548620000.0, step = 18601 (0.232 sec)\n",
      "INFO:tensorflow:global_step/sec: 432.698\n",
      "INFO:tensorflow:loss = 96491770000.0, step = 18701 (0.232 sec)\n",
      "INFO:tensorflow:global_step/sec: 405.951\n",
      "INFO:tensorflow:loss = 89076834000.0, step = 18801 (0.249 sec)\n",
      "INFO:tensorflow:global_step/sec: 438.257\n",
      "INFO:tensorflow:loss = 119035990000.0, step = 18901 (0.226 sec)\n",
      "INFO:tensorflow:global_step/sec: 370.75\n",
      "INFO:tensorflow:loss = 173766300000.0, step = 19001 (0.269 sec)\n",
      "INFO:tensorflow:global_step/sec: 433.553\n",
      "INFO:tensorflow:loss = 69216535000.0, step = 19101 (0.230 sec)\n",
      "INFO:tensorflow:global_step/sec: 405.92\n",
      "INFO:tensorflow:loss = 44282528000.0, step = 19201 (0.249 sec)\n",
      "INFO:tensorflow:global_step/sec: 422.47\n",
      "INFO:tensorflow:loss = 170639300000.0, step = 19301 (0.257 sec)\n",
      "INFO:tensorflow:global_step/sec: 398.613\n",
      "INFO:tensorflow:loss = 109530780000.0, step = 19401 (0.228 sec)\n",
      "INFO:tensorflow:global_step/sec: 401.222\n",
      "INFO:tensorflow:loss = 71660170000.0, step = 19501 (0.249 sec)\n",
      "INFO:tensorflow:global_step/sec: 414.163\n",
      "INFO:tensorflow:loss = 75525750000.0, step = 19601 (0.244 sec)\n",
      "INFO:tensorflow:global_step/sec: 406.187\n",
      "INFO:tensorflow:loss = 36632875000.0, step = 19701 (0.244 sec)\n",
      "INFO:tensorflow:global_step/sec: 417.927\n",
      "INFO:tensorflow:loss = 207578500000.0, step = 19801 (0.240 sec)\n",
      "INFO:tensorflow:global_step/sec: 397.585\n",
      "INFO:tensorflow:loss = 58273972000.0, step = 19901 (0.252 sec)\n",
      "INFO:tensorflow:global_step/sec: 451.367\n",
      "INFO:tensorflow:loss = 90222550000.0, step = 20001 (0.219 sec)\n",
      "INFO:tensorflow:global_step/sec: 387.912\n",
      "INFO:tensorflow:loss = 77082750000.0, step = 20101 (0.259 sec)\n",
      "INFO:tensorflow:global_step/sec: 453.927\n",
      "INFO:tensorflow:loss = 131356615000.0, step = 20201 (0.221 sec)\n",
      "INFO:tensorflow:global_step/sec: 401.365\n",
      "INFO:tensorflow:loss = 39223812000.0, step = 20301 (0.251 sec)\n",
      "INFO:tensorflow:global_step/sec: 399.157\n",
      "INFO:tensorflow:loss = 61748527000.0, step = 20401 (0.249 sec)\n",
      "INFO:tensorflow:global_step/sec: 429.056\n",
      "INFO:tensorflow:loss = 78543260000.0, step = 20501 (0.233 sec)\n",
      "INFO:tensorflow:global_step/sec: 387.792\n",
      "INFO:tensorflow:loss = 44356588000.0, step = 20601 (0.259 sec)\n",
      "INFO:tensorflow:global_step/sec: 423.034\n",
      "INFO:tensorflow:loss = 61627843000.0, step = 20701 (0.237 sec)\n",
      "INFO:tensorflow:global_step/sec: 407.439\n",
      "INFO:tensorflow:loss = 30904752000.0, step = 20801 (0.245 sec)\n",
      "INFO:tensorflow:global_step/sec: 421.249\n",
      "INFO:tensorflow:loss = 66886780000.0, step = 20901 (0.238 sec)\n",
      "INFO:tensorflow:global_step/sec: 405.723\n",
      "INFO:tensorflow:loss = 170143420000.0, step = 21001 (0.245 sec)\n",
      "INFO:tensorflow:global_step/sec: 397.528\n",
      "INFO:tensorflow:loss = 71081886000.0, step = 21101 (0.252 sec)\n",
      "INFO:tensorflow:global_step/sec: 423.033\n",
      "INFO:tensorflow:loss = 21657766000.0, step = 21201 (0.246 sec)\n",
      "INFO:tensorflow:global_step/sec: 391.653\n",
      "INFO:tensorflow:loss = 195611690000.0, step = 21301 (0.247 sec)\n",
      "INFO:tensorflow:global_step/sec: 423.971\n",
      "INFO:tensorflow:loss = 32137034000.0, step = 21401 (0.235 sec)\n",
      "INFO:tensorflow:global_step/sec: 403.234\n",
      "INFO:tensorflow:loss = 31095566000.0, step = 21501 (0.246 sec)\n",
      "INFO:tensorflow:global_step/sec: 447.851\n",
      "INFO:tensorflow:loss = 66260607000.0, step = 21601 (0.224 sec)\n",
      "INFO:tensorflow:global_step/sec: 419.334\n",
      "INFO:tensorflow:loss = 47262680000.0, step = 21701 (0.240 sec)\n",
      "INFO:tensorflow:global_step/sec: 402.412\n",
      "INFO:tensorflow:loss = 49523100000.0, step = 21801 (0.250 sec)\n",
      "INFO:tensorflow:global_step/sec: 451.896\n",
      "INFO:tensorflow:loss = 50715420000.0, step = 21901 (0.218 sec)\n",
      "INFO:tensorflow:global_step/sec: 411.321\n",
      "INFO:tensorflow:loss = 100580000000.0, step = 22001 (0.245 sec)\n",
      "INFO:tensorflow:global_step/sec: 438.206\n",
      "INFO:tensorflow:loss = 117273890000.0, step = 22101 (0.228 sec)\n",
      "INFO:tensorflow:global_step/sec: 409.592\n",
      "INFO:tensorflow:loss = 36889334000.0, step = 22201 (0.243 sec)\n",
      "INFO:tensorflow:global_step/sec: 420.034\n",
      "INFO:tensorflow:loss = 181197400000.0, step = 22301 (0.239 sec)\n",
      "INFO:tensorflow:global_step/sec: 395.608\n",
      "INFO:tensorflow:loss = 99467460000.0, step = 22401 (0.251 sec)\n",
      "INFO:tensorflow:global_step/sec: 417.372\n",
      "INFO:tensorflow:loss = 63131890000.0, step = 22501 (0.246 sec)\n",
      "INFO:tensorflow:global_step/sec: 415.932\n",
      "INFO:tensorflow:loss = 229788750000.0, step = 22601 (0.234 sec)\n",
      "INFO:tensorflow:global_step/sec: 398.96\n",
      "INFO:tensorflow:loss = 38663782000.0, step = 22701 (0.253 sec)\n",
      "INFO:tensorflow:global_step/sec: 421.896\n",
      "INFO:tensorflow:loss = 89504550000.0, step = 22801 (0.237 sec)\n",
      "INFO:tensorflow:global_step/sec: 380.271\n",
      "INFO:tensorflow:loss = 50361176000.0, step = 22901 (0.267 sec)\n",
      "INFO:tensorflow:global_step/sec: 433.897\n",
      "INFO:tensorflow:loss = 73022930000.0, step = 23001 (0.224 sec)\n",
      "INFO:tensorflow:global_step/sec: 402.297\n",
      "INFO:tensorflow:loss = 62430690000.0, step = 23101 (0.253 sec)\n",
      "INFO:tensorflow:global_step/sec: 393.164\n",
      "INFO:tensorflow:loss = 147976850000.0, step = 23201 (0.250 sec)\n",
      "INFO:tensorflow:global_step/sec: 408.198\n",
      "INFO:tensorflow:loss = 25328759000.0, step = 23301 (0.246 sec)\n",
      "INFO:tensorflow:global_step/sec: 393.809\n",
      "INFO:tensorflow:loss = 44327680000.0, step = 23401 (0.256 sec)\n"
     ]
    },
    {
     "name": "stdout",
     "output_type": "stream",
     "text": [
      "INFO:tensorflow:global_step/sec: 408.961\n",
      "INFO:tensorflow:loss = 51834843000.0, step = 23501 (0.242 sec)\n",
      "INFO:tensorflow:global_step/sec: 406.706\n",
      "INFO:tensorflow:loss = 46649078000.0, step = 23601 (0.246 sec)\n",
      "INFO:tensorflow:global_step/sec: 433.758\n",
      "INFO:tensorflow:loss = 54285017000.0, step = 23701 (0.233 sec)\n",
      "INFO:tensorflow:global_step/sec: 356.912\n",
      "INFO:tensorflow:loss = 48496796000.0, step = 23801 (0.279 sec)\n",
      "INFO:tensorflow:global_step/sec: 368.653\n",
      "INFO:tensorflow:loss = 100951100000.0, step = 23901 (0.273 sec)\n",
      "INFO:tensorflow:global_step/sec: 387.134\n",
      "INFO:tensorflow:loss = 61088450000.0, step = 24001 (0.255 sec)\n",
      "INFO:tensorflow:global_step/sec: 397.004\n",
      "INFO:tensorflow:loss = 61787693000.0, step = 24101 (0.254 sec)\n",
      "INFO:tensorflow:global_step/sec: 428.444\n",
      "INFO:tensorflow:loss = 107566980000.0, step = 24201 (0.233 sec)\n",
      "INFO:tensorflow:global_step/sec: 395.945\n",
      "INFO:tensorflow:loss = 29995340000.0, step = 24301 (0.251 sec)\n",
      "INFO:tensorflow:global_step/sec: 434.448\n",
      "INFO:tensorflow:loss = 43133276000.0, step = 24401 (0.231 sec)\n",
      "INFO:tensorflow:global_step/sec: 387.413\n",
      "INFO:tensorflow:loss = 132054600000.0, step = 24501 (0.257 sec)\n",
      "INFO:tensorflow:global_step/sec: 406.975\n",
      "INFO:tensorflow:loss = 83583025000.0, step = 24601 (0.249 sec)\n",
      "INFO:tensorflow:global_step/sec: 428.808\n",
      "INFO:tensorflow:loss = 96537120000.0, step = 24701 (0.234 sec)\n",
      "INFO:tensorflow:global_step/sec: 424.004\n",
      "INFO:tensorflow:loss = 168683440000.0, step = 24801 (0.232 sec)\n",
      "INFO:tensorflow:global_step/sec: 440.121\n",
      "INFO:tensorflow:loss = 120983740000.0, step = 24901 (0.229 sec)\n",
      "INFO:tensorflow:Saving checkpoints for 25000 into /tmp/tmpozou324a/model.ckpt.\n",
      "INFO:tensorflow:Loss for final step: 129420290000.0.\n"
     ]
    },
    {
     "data": {
      "text/plain": [
       "<tensorflow.python.estimator.canned.dnn.DNNRegressor at 0x7f7a568db2e8>"
      ]
     },
     "execution_count": 20,
     "metadata": {},
     "output_type": "execute_result"
    }
   ],
   "source": [
    "model.train(input_fn=input_func,steps=25000)"
   ]
  },
  {
   "cell_type": "markdown",
   "metadata": {},
   "source": [
    "** Create a prediction input function and then use the .predict method off your estimator model to create a list or predictions on your test data. **"
   ]
  },
  {
   "cell_type": "code",
   "execution_count": 21,
   "metadata": {},
   "outputs": [],
   "source": [
    "predict_input_func = tf.estimator.inputs.pandas_input_fn(\n",
    "      x=X_test,\n",
    "      batch_size=10,\n",
    "      num_epochs=1,\n",
    "      shuffle=False)"
   ]
  },
  {
   "cell_type": "code",
   "execution_count": 22,
   "metadata": {},
   "outputs": [],
   "source": [
    "pred_gen = model.predict(predict_input_func)"
   ]
  },
  {
   "cell_type": "code",
   "execution_count": 23,
   "metadata": {},
   "outputs": [
    {
     "name": "stdout",
     "output_type": "stream",
     "text": [
      "INFO:tensorflow:Calling model_fn.\n",
      "INFO:tensorflow:Done calling model_fn.\n",
      "INFO:tensorflow:Graph was finalized.\n",
      "INFO:tensorflow:Restoring parameters from /tmp/tmpozou324a/model.ckpt-25000\n",
      "INFO:tensorflow:Running local_init_op.\n",
      "INFO:tensorflow:Done running local_init_op.\n"
     ]
    }
   ],
   "source": [
    "predictions = list(pred_gen)"
   ]
  },
  {
   "cell_type": "markdown",
   "metadata": {},
   "source": [
    "** Calculate the RMSE. Do this manually or use [sklearn.metrics](http://scikit-learn.org/stable/modules/generated/sklearn.metrics.mean_squared_error.html) **"
   ]
  },
  {
   "cell_type": "code",
   "execution_count": 24,
   "metadata": {},
   "outputs": [],
   "source": [
    "final_preds = []\n",
    "for pred in predictions:\n",
    "    final_preds.append(pred['predictions'])"
   ]
  },
  {
   "cell_type": "code",
   "execution_count": 25,
   "metadata": {},
   "outputs": [],
   "source": [
    "from sklearn.metrics import mean_squared_error"
   ]
  },
  {
   "cell_type": "code",
   "execution_count": 26,
   "metadata": {},
   "outputs": [
    {
     "data": {
      "text/plain": [
       "93657.320601953"
      ]
     },
     "execution_count": 26,
     "metadata": {},
     "output_type": "execute_result"
    }
   ],
   "source": [
    "mean_squared_error(y_test,final_preds)**0.5"
   ]
  },
  {
   "cell_type": "markdown",
   "metadata": {},
   "source": [
    "# Great Job!"
   ]
  }
 ],
 "metadata": {
  "kernelspec": {
   "display_name": "Python 3",
   "language": "python",
   "name": "python3"
  },
  "language_info": {
   "codemirror_mode": {
    "name": "ipython",
    "version": 3
   },
   "file_extension": ".py",
   "mimetype": "text/x-python",
   "name": "python",
   "nbconvert_exporter": "python",
   "pygments_lexer": "ipython3",
   "version": "3.6.5"
  }
 },
 "nbformat": 4,
 "nbformat_minor": 2
}
